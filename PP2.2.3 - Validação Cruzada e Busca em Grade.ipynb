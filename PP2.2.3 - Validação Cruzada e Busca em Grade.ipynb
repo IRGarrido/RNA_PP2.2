{
 "cells": [
  {
   "cell_type": "markdown",
   "metadata": {},
   "source": [
    "# Redes Neurais Artificiais 2025.1\n",
    "\n",
    "- **Disciplina**: Redes Neurais Artificiais 2025.1\n",
    "- **Professora**: Elloá B. Guedes (ebgcosta@uea.edu.br)  \n",
    "- **Github**: http://github.com/elloa  \n",
    "        \n",
    "\n",
    "Levando em conta a base de dados **_Forest Cover Type_**, esta parte do Projeto Prático diz respeito à proposição e avaliação de múltiplas redes neurais artificiais do tipo feedforward multilayer perceptron para o problema da classificação multi-classe da cobertura florestal em uma área do Roosevelt National Forest.\n",
    "\n",
    "## Busca em Grade\n",
    "\n",
    "Uma maneira padrão de escolher os parâmetros de um modelo de Machine Learning é por meio de uma busca em grade via força bruta. O algoritmo da busca em grade é dado como segue:\n",
    "\n",
    "1. Escolha a métrica de desempenho que você deseja maximizar  \n",
    "2. Escolha o algoritmo de Machine Learning (exemplo: redes neurais artificiais). Em seguida, defina os parâmetros ou hiperparâmetros deste tipo de modelo sobre os quais você deseja otimizar (número de épocas, taxa de aprendizado, etc.) e construa um array de valores a serem testados para cada parâmetro ou hiperparâmetro.  \n",
    "3. Defina a grade de busca, a qual é dada como o produto cartesiano de cada parâmetro a ser testado. Por exemplo, para os arrays [50, 100, 1000] e [10, 15], tem-se que a grade é [(50,10), (50,15), (100,10), (100,15), (1000,10), (1000,15)].\n",
    "4. Para cada combinação de parâmetros a serem otimizados, utilize o conjunto de treinamento para realizar uma validação cruzada (holdout ou k-fold) e calcule a métrica de avaliação no conjunto de teste (ou conjuntos de teste)\n",
    "5. Escolha a combinação de parâmetros que maximizam a métrica de avaliação. Este é o modelo otimizado.\n",
    "\n",
    "Por que esta abordagem funciona? Porque a busca em grade efetua uma pesquisa extensiva sobre as possíveis combinações de valores para cada um dos parâmetros a serem ajustados. Para cada combinação, ela estima a performance do modelo em dados novos. Por fim, o modelo com melhor métrica de desempenho é escolhido. Tem-se então que este modelo é o que melhor pode vir a generalizar mediante dados nunca antes vistos.\n",
    "\n",
    "## Efetuando a Busca em Grade sobre Hiperparâmetros das Top-6 RNAs\n",
    "\n",
    "Considerando a etapa anterior do projeto prático, foram identificadas pelo menos 6 melhores Redes Neurais para o problema da classificação multi-classe da cobertura florestal no conjunto de dados selecionado. Algumas destas redes possuem atributos categóricos como variáveis preditoras, enquanto outras possuem apenas os atributos numéricos como preditores.\n",
    "\n",
    "A primeira etapa desta segunda parte do projeto consiste em trazer para este notebook estas seis arquiteturas, ressaltando:\n",
    "\n",
    "1. Número de neurônios ocultos por camada  \n",
    "2. Função de Ativação  \n",
    "3. Utilização ou não de atributos categóricos   \n",
    "4. Desempenho médio +- desvio padrão nos testes anteriores  \n",
    "5. Número de repetições que a equipe conseguiu realizar para verificar os resultados  \n",
    "\n",
    "Elabore uma busca em grade sobre estas arquiteturas que contemple variações nos hiperparâmetros a seguir, conforme documentação de [MLPClassifier](https://scikit-learn.org/stable/modules/generated/sklearn.neural_network.MLPClassifier.html)\n",
    "\n",
    "A. Solver  (Não usar o LBFGS, pois é mais adequado para datasets pequenos)  \n",
    "B. Batch Size  \n",
    "C. Learning Rate Init  \n",
    "D. Paciência (n_iter_no_change)  \n",
    "E. Épocas  \n",
    "\n",
    "Nesta busca em grande, contemple a utilização do objeto [GridSearchCV](https://scikit-learn.org/stable/modules/generated/sklearn.model_selection.GridSearchCV.html)"
   ]
  },
  {
   "cell_type": "markdown",
   "metadata": {},
   "source": [
    "**Importação de bibliotecas**"
   ]
  },
  {
   "cell_type": "code",
   "execution_count": 1,
   "metadata": {},
   "outputs": [],
   "source": [
    "import prettytable\n",
    "import numpy as np\n",
    "import pandas as pd\n",
    "import json\n",
    "import random\n",
    "from sklearn.neural_network import MLPClassifier\n",
    "\n",
    "from sklearn.model_selection import train_test_split, GridSearchCV"
   ]
  },
  {
   "cell_type": "markdown",
   "metadata": {},
   "source": [
    "**Importação do dataset**"
   ]
  },
  {
   "cell_type": "code",
   "execution_count": 2,
   "metadata": {},
   "outputs": [
    {
     "data": {
      "text/html": [
       "<div>\n",
       "<style scoped>\n",
       "    .dataframe tbody tr th:only-of-type {\n",
       "        vertical-align: middle;\n",
       "    }\n",
       "\n",
       "    .dataframe tbody tr th {\n",
       "        vertical-align: top;\n",
       "    }\n",
       "\n",
       "    .dataframe thead th {\n",
       "        text-align: right;\n",
       "    }\n",
       "</style>\n",
       "<table border=\"1\" class=\"dataframe\">\n",
       "  <thead>\n",
       "    <tr style=\"text-align: right;\">\n",
       "      <th></th>\n",
       "      <th>Elevation</th>\n",
       "      <th>Aspect</th>\n",
       "      <th>Slope</th>\n",
       "      <th>Horizontal_Distance_To_Hydrology</th>\n",
       "      <th>Vertical_Distance_To_Hydrology</th>\n",
       "      <th>Horizontal_Distance_To_Roadways</th>\n",
       "      <th>Hillshade_9am</th>\n",
       "      <th>Hillshade_Noon</th>\n",
       "      <th>Hillshade_3pm</th>\n",
       "      <th>Horizontal_Distance_To_Fire_Points</th>\n",
       "      <th>Cover_Type</th>\n",
       "    </tr>\n",
       "  </thead>\n",
       "  <tbody>\n",
       "    <tr>\n",
       "      <th>0</th>\n",
       "      <td>2596</td>\n",
       "      <td>51</td>\n",
       "      <td>3</td>\n",
       "      <td>258</td>\n",
       "      <td>0</td>\n",
       "      <td>510</td>\n",
       "      <td>221</td>\n",
       "      <td>232</td>\n",
       "      <td>148</td>\n",
       "      <td>6279</td>\n",
       "      <td>5</td>\n",
       "    </tr>\n",
       "    <tr>\n",
       "      <th>1</th>\n",
       "      <td>2590</td>\n",
       "      <td>56</td>\n",
       "      <td>2</td>\n",
       "      <td>212</td>\n",
       "      <td>-6</td>\n",
       "      <td>390</td>\n",
       "      <td>220</td>\n",
       "      <td>235</td>\n",
       "      <td>151</td>\n",
       "      <td>6225</td>\n",
       "      <td>5</td>\n",
       "    </tr>\n",
       "    <tr>\n",
       "      <th>2</th>\n",
       "      <td>2804</td>\n",
       "      <td>139</td>\n",
       "      <td>9</td>\n",
       "      <td>268</td>\n",
       "      <td>65</td>\n",
       "      <td>3180</td>\n",
       "      <td>234</td>\n",
       "      <td>238</td>\n",
       "      <td>135</td>\n",
       "      <td>6121</td>\n",
       "      <td>2</td>\n",
       "    </tr>\n",
       "    <tr>\n",
       "      <th>3</th>\n",
       "      <td>2785</td>\n",
       "      <td>155</td>\n",
       "      <td>18</td>\n",
       "      <td>242</td>\n",
       "      <td>118</td>\n",
       "      <td>3090</td>\n",
       "      <td>238</td>\n",
       "      <td>238</td>\n",
       "      <td>122</td>\n",
       "      <td>6211</td>\n",
       "      <td>2</td>\n",
       "    </tr>\n",
       "    <tr>\n",
       "      <th>4</th>\n",
       "      <td>2595</td>\n",
       "      <td>45</td>\n",
       "      <td>2</td>\n",
       "      <td>153</td>\n",
       "      <td>-1</td>\n",
       "      <td>391</td>\n",
       "      <td>220</td>\n",
       "      <td>234</td>\n",
       "      <td>150</td>\n",
       "      <td>6172</td>\n",
       "      <td>5</td>\n",
       "    </tr>\n",
       "  </tbody>\n",
       "</table>\n",
       "</div>"
      ],
      "text/plain": [
       "   Elevation  Aspect  Slope  Horizontal_Distance_To_Hydrology  \\\n",
       "0       2596      51      3                               258   \n",
       "1       2590      56      2                               212   \n",
       "2       2804     139      9                               268   \n",
       "3       2785     155     18                               242   \n",
       "4       2595      45      2                               153   \n",
       "\n",
       "   Vertical_Distance_To_Hydrology  Horizontal_Distance_To_Roadways  \\\n",
       "0                               0                              510   \n",
       "1                              -6                              390   \n",
       "2                              65                             3180   \n",
       "3                             118                             3090   \n",
       "4                              -1                              391   \n",
       "\n",
       "   Hillshade_9am  Hillshade_Noon  Hillshade_3pm  \\\n",
       "0            221             232            148   \n",
       "1            220             235            151   \n",
       "2            234             238            135   \n",
       "3            238             238            122   \n",
       "4            220             234            150   \n",
       "\n",
       "   Horizontal_Distance_To_Fire_Points  Cover_Type  \n",
       "0                                6279           5  \n",
       "1                                6225           5  \n",
       "2                                6121           2  \n",
       "3                                6211           2  \n",
       "4                                6172           5  "
      ]
     },
     "execution_count": 2,
     "metadata": {},
     "output_type": "execute_result"
    }
   ],
   "source": [
    "file_path = \"covtype.csv\"\n",
    "pd.set_option('display.max_columns', None)\n",
    "\n",
    "df = pd.read_csv(file_path) #Dataset com atributos categóricos\n",
    "categoric_cols = [col for col in df.columns if 'Soil_Type' in col or 'Wilderness_Area' in col]\n",
    "df = df.drop(columns=categoric_cols)\n",
    "df.head()"
   ]
  },
  {
   "cell_type": "markdown",
   "metadata": {},
   "source": [
    "**Importação das melhores arquiteturas**"
   ]
  },
  {
   "cell_type": "code",
   "execution_count": 3,
   "metadata": {},
   "outputs": [
    {
     "data": {
      "text/html": [
       "<div>\n",
       "<style scoped>\n",
       "    .dataframe tbody tr th:only-of-type {\n",
       "        vertical-align: middle;\n",
       "    }\n",
       "\n",
       "    .dataframe tbody tr th {\n",
       "        vertical-align: top;\n",
       "    }\n",
       "\n",
       "    .dataframe thead th {\n",
       "        text-align: right;\n",
       "    }\n",
       "</style>\n",
       "<table border=\"1\" class=\"dataframe\">\n",
       "  <thead>\n",
       "    <tr style=\"text-align: right;\">\n",
       "      <th></th>\n",
       "      <th>camadas</th>\n",
       "      <th>solver</th>\n",
       "      <th>activation</th>\n",
       "      <th>iterations</th>\n",
       "      <th>media_acuracia</th>\n",
       "      <th>desvio_acuracia</th>\n",
       "      <th>media_f1</th>\n",
       "      <th>desvio_f1</th>\n",
       "    </tr>\n",
       "  </thead>\n",
       "  <tbody>\n",
       "    <tr>\n",
       "      <th>0</th>\n",
       "      <td>[48, 60]</td>\n",
       "      <td>sgd</td>\n",
       "      <td>relu</td>\n",
       "      <td>150</td>\n",
       "      <td>0.807700</td>\n",
       "      <td>0.002632</td>\n",
       "      <td>0.804039</td>\n",
       "      <td>0.002963</td>\n",
       "    </tr>\n",
       "    <tr>\n",
       "      <th>1</th>\n",
       "      <td>[36, 28]</td>\n",
       "      <td>adam</td>\n",
       "      <td>logistic</td>\n",
       "      <td>150</td>\n",
       "      <td>0.798396</td>\n",
       "      <td>0.002396</td>\n",
       "      <td>0.795103</td>\n",
       "      <td>0.002576</td>\n",
       "    </tr>\n",
       "    <tr>\n",
       "      <th>2</th>\n",
       "      <td>[32, 32]</td>\n",
       "      <td>sgd</td>\n",
       "      <td>relu</td>\n",
       "      <td>150</td>\n",
       "      <td>0.781922</td>\n",
       "      <td>0.003023</td>\n",
       "      <td>0.777013</td>\n",
       "      <td>0.003404</td>\n",
       "    </tr>\n",
       "    <tr>\n",
       "      <th>3</th>\n",
       "      <td>[17, 8]</td>\n",
       "      <td>adam</td>\n",
       "      <td>logistic</td>\n",
       "      <td>100</td>\n",
       "      <td>0.741158</td>\n",
       "      <td>0.003078</td>\n",
       "      <td>0.732777</td>\n",
       "      <td>0.003360</td>\n",
       "    </tr>\n",
       "    <tr>\n",
       "      <th>4</th>\n",
       "      <td>[12, 13]</td>\n",
       "      <td>adam</td>\n",
       "      <td>relu</td>\n",
       "      <td>100</td>\n",
       "      <td>0.741100</td>\n",
       "      <td>0.003800</td>\n",
       "      <td>0.734000</td>\n",
       "      <td>0.004000</td>\n",
       "    </tr>\n",
       "    <tr>\n",
       "      <th>5</th>\n",
       "      <td>[10, 15]</td>\n",
       "      <td>adam</td>\n",
       "      <td>relu</td>\n",
       "      <td>100</td>\n",
       "      <td>0.739800</td>\n",
       "      <td>0.003800</td>\n",
       "      <td>0.732400</td>\n",
       "      <td>0.004500</td>\n",
       "    </tr>\n",
       "  </tbody>\n",
       "</table>\n",
       "</div>"
      ],
      "text/plain": [
       "    camadas solver activation  iterations  media_acuracia  desvio_acuracia  \\\n",
       "0  [48, 60]    sgd       relu         150        0.807700         0.002632   \n",
       "1  [36, 28]   adam   logistic         150        0.798396         0.002396   \n",
       "2  [32, 32]    sgd       relu         150        0.781922         0.003023   \n",
       "3   [17, 8]   adam   logistic         100        0.741158         0.003078   \n",
       "4  [12, 13]   adam       relu         100        0.741100         0.003800   \n",
       "5  [10, 15]   adam       relu         100        0.739800         0.003800   \n",
       "\n",
       "   media_f1  desvio_f1  \n",
       "0  0.804039   0.002963  \n",
       "1  0.795103   0.002576  \n",
       "2  0.777013   0.003404  \n",
       "3  0.732777   0.003360  \n",
       "4  0.734000   0.004000  \n",
       "5  0.732400   0.004500  "
      ]
     },
     "execution_count": 3,
     "metadata": {},
     "output_type": "execute_result"
    }
   ],
   "source": [
    "with open('resultado_melhores_arquiteturas.json', 'r', encoding='utf-8') as f:\n",
    "    data = json.load(f)\n",
    "\n",
    "pd.DataFrame(data)"
   ]
  },
  {
   "cell_type": "code",
   "execution_count": 4,
   "metadata": {},
   "outputs": [
    {
     "name": "stdout",
     "output_type": "stream",
     "text": [
      "+-------------------+--------------------+-------------------------------------+------------------+----------------------+\n",
      "| Neurônios Ocultos | Função de Ativação | Utilização de Atributos Categóricos | Desempenho Médio | Número de Repetições |\n",
      "+-------------------+--------------------+-------------------------------------+------------------+----------------------+\n",
      "|      (48, 60)     |        relu        |                 Não                 | 0.8040 +- 0.0030 |         100          |\n",
      "|      (36, 28)     |      logistic      |                 Não                 | 0.7951 +- 0.0026 |         100          |\n",
      "|      (32, 32)     |        relu        |                 Não                 | 0.7770 +- 0.0034 |         100          |\n",
      "|      (17, 8)      |      logistic      |                 Não                 | 0.7328 +- 0.0034 |         100          |\n",
      "|      (12, 13)     |        relu        |                 Não                 | 0.7340 +- 0.0040 |         100          |\n",
      "|      (10, 15)     |        relu        |                 Não                 | 0.7324 +- 0.0045 |         100          |\n",
      "+-------------------+--------------------+-------------------------------------+------------------+----------------------+\n"
     ]
    }
   ],
   "source": [
    "table = prettytable.PrettyTable(['Neurônios Ocultos', 'Função de Ativação', 'Utilização de Atributos Categóricos', 'Desempenho Médio', 'Número de Repetições'])\n",
    "arquiteturas = []\n",
    "\n",
    "for arquitetura in data:\n",
    "    table.add_row([tuple(arquitetura['camadas']), \n",
    "                  arquitetura['activation'],\n",
    "                   \"Não\",\n",
    "                  f\"{arquitetura['media_f1']:.4f} +- {arquitetura['desvio_f1']:.4f}\", \n",
    "                  100])\n",
    "    arquiteturas.append(\n",
    "        [tuple(arquitetura['camadas']),\n",
    "         arquitetura['solver'],\n",
    "         arquitetura['activation'],\n",
    "         arquitetura['iterations']\n",
    "        ])\n",
    "\n",
    "print(table)"
   ]
  },
  {
   "cell_type": "code",
   "execution_count": 5,
   "metadata": {},
   "outputs": [
    {
     "data": {
      "text/plain": [
       "[[(48, 60), 'sgd', 'relu', 150],\n",
       " [(36, 28), 'adam', 'logistic', 150],\n",
       " [(32, 32), 'sgd', 'relu', 150],\n",
       " [(17, 8), 'adam', 'logistic', 100],\n",
       " [(12, 13), 'adam', 'relu', 100],\n",
       " [(10, 15), 'adam', 'relu', 100]]"
      ]
     },
     "execution_count": 5,
     "metadata": {},
     "output_type": "execute_result"
    }
   ],
   "source": [
    "arquiteturas"
   ]
  },
  {
   "cell_type": "code",
   "execution_count": 6,
   "metadata": {},
   "outputs": [],
   "source": [
    "y = df['Cover_Type']\n",
    "X = df.drop(columns=['Cover_Type'])"
   ]
  },
  {
   "cell_type": "markdown",
   "metadata": {},
   "source": [
    "**Definindo parâmetros e Hiperparâmetros a serem otimizados**"
   ]
  },
  {
   "cell_type": "code",
   "execution_count": 7,
   "metadata": {},
   "outputs": [],
   "source": [
    "parametros = {\n",
    "    'solver' :  ['adam', 'sdg'], \n",
    "    'batch_size' : [100, 200, 400],\n",
    "    'learning_rate_init' : [0.0001, 0.001, 0.01],\n",
    "    'n_iter_no_change' : [10, 20], #paciência\n",
    "    'max_iter' : [100, 150] #número de épocas\n",
    "}"
   ]
  },
  {
   "cell_type": "markdown",
   "metadata": {},
   "source": [
    "## Validação Cruzada k-fold\n",
    "\n",
    "Na elaboração da busca em grid, vamos avaliar os modelos propostos segundo uma estratégia de validação cruzada ainda não explorada até o momento: a validação cruzada k-fold. Segundo a mesma, o conjunto de dados é particionado em k partes: a cada iteração, separa-se uma das partes para teste e o modelo é treinado com as k-1 partes remanescentes. Valores sugestivos de k na literatura são k = 3, 5 ou 10, pois o custo computacional desta validação dos modelos é alto. A métrica de desempenho é resultante da média dos desempenhos nas k iterações. A figura a seguir ilustra a ideia desta avaliação\n",
    "\n",
    "<img src = \"https://ethen8181.github.io/machine-learning/model_selection/img/kfolds.png\" width=600></img>\n",
    "\n",
    "Considerando a métrica de desempenho F1-Score, considere a validação cruzada 5-fold para aferir os resultados da busca em grande anterior."
   ]
  },
  {
   "cell_type": "markdown",
   "metadata": {},
   "source": [
    "**Rotina para a validação k_fold**"
   ]
  },
  {
   "cell_type": "code",
   "execution_count": 8,
   "metadata": {},
   "outputs": [],
   "source": [
    "# def k_fold(folds,random):\n",
    "#   df_embaralhado = df.sample(frac=1, random_state=random) #Embaralha o dataset\n",
    "#   k=folds #Definição do número de folds\n",
    "#   k_folds=[] #Criação da lista de folds\n",
    "#   subsets=[] #Criação dos subsets\n",
    "#   subset_size=len(df)/k\n",
    "#   limite=0\n",
    "\n",
    "#   for i in range(k):  #Armazenamento de todas as linhas dentro dos subsets\n",
    "#     subsets.append(df.iloc[limite:limite+subset_size])\n",
    "#     limite=limite+subset_size\n",
    "\n",
    "#   for i in range(k):  #Armazenamento dos 5 conjuntos de Teste e Treino em k_folds\n",
    "#     test=subsets[i]\n",
    "#     train=[]\n",
    "#     for j in subsets:\n",
    "#       if j!=test:\n",
    "#         train.append(j)\n",
    "#     k_folds.append((test,train))\n",
    "\n",
    "#   return k_folds"
   ]
  },
  {
   "cell_type": "code",
   "execution_count": 9,
   "metadata": {},
   "outputs": [],
   "source": [
    "mlps = []\n",
    "for model in arquiteturas:\n",
    "    mlp = MLPClassifier(hidden_layer_sizes = model[0], solver=model[1], activation=model[2], max_iter=model[3])\n",
    "    mlps.append(mlp)"
   ]
  },
  {
   "cell_type": "code",
   "execution_count": 19,
   "metadata": {},
   "outputs": [],
   "source": [
    "teste =  {\n",
    "    'solver' :  ['sgd'], \n",
    "    'max_iter' : [50, 100] #número de épocas\n",
    "}"
   ]
  },
  {
   "cell_type": "code",
   "execution_count": 16,
   "metadata": {},
   "outputs": [],
   "source": [
    "def busca_grade(mlp, parameters, X, y):\n",
    "    busca = GridSearchCV(mlp, parameters, scoring='f1_weighted', n_jobs=-1,  verbose=2)\n",
    "    busca.fit(X,y)\n",
    "    return busca.cv_results_"
   ]
  },
  {
   "cell_type": "code",
   "execution_count": 17,
   "metadata": {},
   "outputs": [
    {
     "name": "stdout",
     "output_type": "stream",
     "text": [
      "Fitting 5 folds for each of 2 candidates, totalling 10 fits\n"
     ]
    }
   ],
   "source": [
    "mlp_teste = MLPClassifier(hidden_layer_sizes = [12, 13], solver='adam', activation='relu', max_iter=100)\n",
    "resultado = busca_grade(mlp_teste, teste, X, y)"
   ]
  },
  {
   "cell_type": "code",
   "execution_count": 21,
   "metadata": {},
   "outputs": [
    {
     "data": {
      "text/html": [
       "<div>\n",
       "<style scoped>\n",
       "    .dataframe tbody tr th:only-of-type {\n",
       "        vertical-align: middle;\n",
       "    }\n",
       "\n",
       "    .dataframe tbody tr th {\n",
       "        vertical-align: top;\n",
       "    }\n",
       "\n",
       "    .dataframe thead th {\n",
       "        text-align: right;\n",
       "    }\n",
       "</style>\n",
       "<table border=\"1\" class=\"dataframe\">\n",
       "  <thead>\n",
       "    <tr style=\"text-align: right;\">\n",
       "      <th></th>\n",
       "      <th>mean_fit_time</th>\n",
       "      <th>std_fit_time</th>\n",
       "      <th>mean_score_time</th>\n",
       "      <th>std_score_time</th>\n",
       "      <th>param_max_iter</th>\n",
       "      <th>param_solver</th>\n",
       "      <th>params</th>\n",
       "      <th>split0_test_score</th>\n",
       "      <th>split1_test_score</th>\n",
       "      <th>split2_test_score</th>\n",
       "      <th>split3_test_score</th>\n",
       "      <th>split4_test_score</th>\n",
       "      <th>mean_test_score</th>\n",
       "      <th>std_test_score</th>\n",
       "      <th>rank_test_score</th>\n",
       "    </tr>\n",
       "  </thead>\n",
       "  <tbody>\n",
       "    <tr>\n",
       "      <th>0</th>\n",
       "      <td>55.863058</td>\n",
       "      <td>3.796540</td>\n",
       "      <td>0.104007</td>\n",
       "      <td>0.027625</td>\n",
       "      <td>50</td>\n",
       "      <td>sgd</td>\n",
       "      <td>{'max_iter': 50, 'solver': 'sgd'}</td>\n",
       "      <td>0.319642</td>\n",
       "      <td>0.319642</td>\n",
       "      <td>0.319647</td>\n",
       "      <td>0.319656</td>\n",
       "      <td>0.319647</td>\n",
       "      <td>0.319647</td>\n",
       "      <td>0.000005</td>\n",
       "      <td>1</td>\n",
       "    </tr>\n",
       "    <tr>\n",
       "      <th>1</th>\n",
       "      <td>42.164392</td>\n",
       "      <td>12.181642</td>\n",
       "      <td>0.105111</td>\n",
       "      <td>0.042426</td>\n",
       "      <td>100</td>\n",
       "      <td>sgd</td>\n",
       "      <td>{'max_iter': 100, 'solver': 'sgd'}</td>\n",
       "      <td>0.319642</td>\n",
       "      <td>0.319642</td>\n",
       "      <td>0.319647</td>\n",
       "      <td>0.319656</td>\n",
       "      <td>0.319647</td>\n",
       "      <td>0.319647</td>\n",
       "      <td>0.000005</td>\n",
       "      <td>1</td>\n",
       "    </tr>\n",
       "  </tbody>\n",
       "</table>\n",
       "</div>"
      ],
      "text/plain": [
       "   mean_fit_time  std_fit_time  mean_score_time  std_score_time  \\\n",
       "0      55.863058      3.796540         0.104007        0.027625   \n",
       "1      42.164392     12.181642         0.105111        0.042426   \n",
       "\n",
       "   param_max_iter param_solver                              params  \\\n",
       "0              50          sgd   {'max_iter': 50, 'solver': 'sgd'}   \n",
       "1             100          sgd  {'max_iter': 100, 'solver': 'sgd'}   \n",
       "\n",
       "   split0_test_score  split1_test_score  split2_test_score  split3_test_score  \\\n",
       "0           0.319642           0.319642           0.319647           0.319656   \n",
       "1           0.319642           0.319642           0.319647           0.319656   \n",
       "\n",
       "   split4_test_score  mean_test_score  std_test_score  rank_test_score  \n",
       "0           0.319647         0.319647        0.000005                1  \n",
       "1           0.319647         0.319647        0.000005                1  "
      ]
     },
     "execution_count": 21,
     "metadata": {},
     "output_type": "execute_result"
    }
   ],
   "source": [
    "pd.DataFrame(resultado)"
   ]
  },
  {
   "cell_type": "markdown",
   "metadata": {},
   "source": [
    "## Identificando a mellhor solução\n",
    "\n",
    "Como resultado da busca em grande com validação cruzada 5-fold, identifique o modelo otimizado com melhor desempenho para o problema. Apresente claramente este modelo, seus parâmetros, hiperparâmetros otimizados e resultados para cada um dos folds avaliados. Esta é a melhor solução identificada em decorrência deste projeto"
   ]
  },
  {
   "cell_type": "code",
   "execution_count": null,
   "metadata": {},
   "outputs": [],
   "source": []
  },
  {
   "cell_type": "code",
   "execution_count": null,
   "metadata": {},
   "outputs": [],
   "source": []
  },
  {
   "cell_type": "markdown",
   "metadata": {},
   "source": [
    "## Empacotando a solução\n",
    "\n",
    "Suponha que você deve entregar este classificador ao órgão responsável por administrar o Roosevelt National Park. Para tanto, você deve fazer uma preparação do mesmo para utilização neste cenário. Uma vez que já identificou os melhores parâmetros e hiperparâmetros, o passo remanescente consiste em treinar o modelo com estes valores e todos os dados disponíveis, salvando o conjunto de pesos do modelo ao final para entrega ao cliente. Assim, finalize o projeto prático realizando tais passos.\n",
    "\n",
    "1. Consulte a documentação a seguir:\n",
    "https://scikit-learn.org/stable/modules/model_persistence.html  \n",
    "2. Treine o modelo com todos os dados  \n",
    "3. Salve o modelo em disco  \n",
    "4. Construa uma rotina que recupere o modelo em disco  \n",
    "5. Mostre que a rotina é funcional, fazendo previsões com todos os elementos do dataset e exibindo uma matriz de confusão das mesmas"
   ]
  },
  {
   "cell_type": "code",
   "execution_count": null,
   "metadata": {},
   "outputs": [],
   "source": []
  }
 ],
 "metadata": {
  "kernelspec": {
   "display_name": "Python 3 (ipykernel)",
   "language": "python",
   "name": "python3"
  },
  "language_info": {
   "codemirror_mode": {
    "name": "ipython",
    "version": 3
   },
   "file_extension": ".py",
   "mimetype": "text/x-python",
   "name": "python",
   "nbconvert_exporter": "python",
   "pygments_lexer": "ipython3",
   "version": "3.9.12"
  }
 },
 "nbformat": 4,
 "nbformat_minor": 4
}
